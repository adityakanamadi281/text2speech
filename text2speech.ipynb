{
 "cells": [
  {
   "cell_type": "code",
   "execution_count": 1,
   "id": "c76dcbb9-716d-47ba-9718-05ee45d6290c",
   "metadata": {},
   "outputs": [
    {
     "name": "stdout",
     "output_type": "stream",
     "text": [
      "Requirement already satisfied: gtts in c:\\users\\adity\\anaconda3\\lib\\site-packages (2.5.4)\n",
      "Requirement already satisfied: requests<3,>=2.27 in c:\\users\\adity\\anaconda3\\lib\\site-packages (from gtts) (2.32.3)\n",
      "Requirement already satisfied: click<8.2,>=7.1 in c:\\users\\adity\\anaconda3\\lib\\site-packages (from gtts) (8.1.7)\n",
      "Requirement already satisfied: colorama in c:\\users\\adity\\anaconda3\\lib\\site-packages (from click<8.2,>=7.1->gtts) (0.4.6)\n",
      "Requirement already satisfied: charset-normalizer<4,>=2 in c:\\users\\adity\\anaconda3\\lib\\site-packages (from requests<3,>=2.27->gtts) (3.3.2)\n",
      "Requirement already satisfied: idna<4,>=2.5 in c:\\users\\adity\\anaconda3\\lib\\site-packages (from requests<3,>=2.27->gtts) (2.10)\n",
      "Requirement already satisfied: urllib3<3,>=1.21.1 in c:\\users\\adity\\anaconda3\\lib\\site-packages (from requests<3,>=2.27->gtts) (2.2.3)\n",
      "Requirement already satisfied: certifi>=2017.4.17 in c:\\users\\adity\\anaconda3\\lib\\site-packages (from requests<3,>=2.27->gtts) (2025.1.31)\n"
     ]
    }
   ],
   "source": [
    "!pip install gtts\n"
   ]
  },
  {
   "cell_type": "code",
   "execution_count": 3,
   "id": "4eda3f91-1f20-441c-86a6-0a2861f6d3e9",
   "metadata": {},
   "outputs": [],
   "source": [
    "from gtts import gTTS"
   ]
  },
  {
   "cell_type": "code",
   "execution_count": 5,
   "id": "a58ed8c0-6a73-4d06-84ba-fce175ea755b",
   "metadata": {},
   "outputs": [],
   "source": [
    "import os\n"
   ]
  },
  {
   "cell_type": "code",
   "execution_count": 27,
   "id": "d630dd95-dc6e-492f-8ac0-6ed157712b0d",
   "metadata": {},
   "outputs": [
    {
     "name": "stdout",
     "output_type": "stream",
     "text": [
      "Supported languages: Kannada (kn), Hindi (hi), English (en), etc.\n"
     ]
    },
    {
     "name": "stdin",
     "output_type": "stream",
     "text": [
      "Enter the text to convert to speech:  நரேந்திர மோதி (பிறப்பு: 17 செப்டம்பர் 1950) இந்திய அரசியல்வாதி மற்றும் தற்போது இந்தியாவின் பிரதமராக பதவி வகிக்கிறார். இவர் 2014 மே 26 முதல் பிரதமராக இருக்கிறார். இதற்கு முன்னர், 2001 முதல் 2014 வரை குஜராத் மாநில முதல்வராக இருந்தார். வாத்நகர், குஜராத்தில் பிறந்த இவர், பால்யத்தில் தந்தையுடன் தேநீர் கடையில் உதவி செய்துள்ளார். இவரின் முழுப் பெயர் நரேந்திர தாமோதர்தாஸ் மோதி.  மோதி பாரதிய ஜனதா கட்சி (BJP) மற்றும் ராஷ்ட்ரீய சுயம்சேவக் சங்கம் (RSS) ஆகிய அமைப்புகளில் முக்கிய உறுப்பினராக உள்ளார். 1985-இல் பாஜகவில் சேர்ந்தார். 2014 மற்றும் 2019 மக்களவைத் தேர்தல்களில் BJP தலைமையிலான தேசிய ஜனநாயகக் கூட்டணி பெரும்பான்மை வெற்றி பெற்று மோதி பிரதமராக தேர்ந்தெடுக்கப்பட்டார்\n",
      "Enter the language code (e.g., kn for Kannada):  ta\n"
     ]
    },
    {
     "name": "stdout",
     "output_type": "stream",
     "text": [
      "Audio saved to output.mp3\n"
     ]
    }
   ],
   "source": [
    "def text_to_speech(text, lang='en', filename='output.mp3'):\n",
    "    try:\n",
    "        # Initialize gTTS with text and language\n",
    "        tts = gTTS(text=text, lang=lang, slow=False)\n",
    "\n",
    "        # Save the audio to a file\n",
    "        tts.save(filename)\n",
    "        print(f\"Audio saved to {filename}\")\n",
    "\n",
    "        # Play the audio file (optional, platform-specific)\n",
    "        if os.name == 'nt':  # Windows\n",
    "            os.system(f'start {filename}')\n",
    "        elif os.name == 'posix':  # macOS or Linux\n",
    "            os.system(f'open {filename}')\n",
    "        else:\n",
    "            print(\"Audio playback is not supported on this platform.\")\n",
    "    except Exception as e:\n",
    "        print(f\"Error: {e}\")\n",
    "\n",
    "if __name__ == \"__main__\":\n",
    "    \n",
    "    print(\"Supported languages: Kannada (kn), Hindi (hi), English (en), etc.\")\n",
    "    # Input text and language\n",
    "    user_text = input(\"Enter the text to convert to speech: \")\n",
    "    user_lang = input(\"Enter the language code (e.g., kn for Kannada): \")\n",
    "\n",
    "    # Call the function\n",
    "    text_to_speech(user_text, lang=user_lang)"
   ]
  },
  {
   "cell_type": "code",
   "execution_count": null,
   "id": "10e515b0-9f5c-4fe5-a112-bbe434a627e0",
   "metadata": {},
   "outputs": [],
   "source": []
  },
  {
   "cell_type": "code",
   "execution_count": null,
   "id": "26a548f2-33f7-4528-bc28-41d96dcce0d8",
   "metadata": {},
   "outputs": [],
   "source": []
  }
 ],
 "metadata": {
  "kernelspec": {
   "display_name": "Python (tensorflow_env)",
   "language": "python",
   "name": "tensorflow_env"
  },
  "language_info": {
   "codemirror_mode": {
    "name": "ipython",
    "version": 3
   },
   "file_extension": ".py",
   "mimetype": "text/x-python",
   "name": "python",
   "nbconvert_exporter": "python",
   "pygments_lexer": "ipython3",
   "version": "3.12.3"
  }
 },
 "nbformat": 4,
 "nbformat_minor": 5
}
